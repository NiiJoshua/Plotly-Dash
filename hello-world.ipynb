{
 "cells": [
  {
   "cell_type": "code",
   "execution_count": 1,
   "id": "08701795",
   "metadata": {},
   "outputs": [],
   "source": [
    "from dash import Dash, dcc #dcc = dash core components\n",
    "import dash_bootstrap_components as dbc"
   ]
  },
  {
   "cell_type": "code",
   "execution_count": 2,
   "id": "22da32cf",
   "metadata": {},
   "outputs": [
    {
     "name": "stdout",
     "output_type": "stream",
     "text": [
      "Dash is running on http://127.0.0.1:8051/\n",
      "\n",
      " * Serving Flask app '__main__'\n",
      " * Debug mode: off\n"
     ]
    },
    {
     "name": "stderr",
     "output_type": "stream",
     "text": [
      "WARNING: This is a development server. Do not use it in a production deployment. Use a production WSGI server instead.\n",
      " * Running on http://127.0.0.1:8051\n",
      "Press CTRL+C to quit\n",
      "127.0.0.1 - - [17/Jan/2023 14:21:56] \"GET / HTTP/1.1\" 200 -\n",
      "127.0.0.1 - - [17/Jan/2023 14:21:56] \"GET /_dash-component-suites/dash/deps/polyfill@7.v2_7_1m1673529123.12.1.min.js HTTP/1.1\" 200 -\n",
      "127.0.0.1 - - [17/Jan/2023 14:21:56] \"GET /_dash-component-suites/dash/deps/react@16.v2_7_1m1673529123.14.0.min.js HTTP/1.1\" 200 -\n",
      "127.0.0.1 - - [17/Jan/2023 14:21:56] \"GET /_dash-component-suites/dash/deps/react-dom@16.v2_7_1m1673529123.14.0.min.js HTTP/1.1\" 200 -\n",
      "127.0.0.1 - - [17/Jan/2023 14:21:56] \"GET /_dash-component-suites/dash/deps/prop-types@15.v2_7_1m1673529123.8.1.min.js HTTP/1.1\" 200 -\n",
      "127.0.0.1 - - [17/Jan/2023 14:21:56] \"GET /_dash-component-suites/dash/dash-renderer/build/dash_renderer.v2_7_1m1673529122.min.js HTTP/1.1\" 200 -\n",
      "127.0.0.1 - - [17/Jan/2023 14:21:56] \"GET /_dash-component-suites/dash_bootstrap_components/_components/dash_bootstrap_components.v1_3_0m1673964494.min.js HTTP/1.1\" 200 -\n",
      "127.0.0.1 - - [17/Jan/2023 14:21:56] \"GET /_dash-component-suites/dash/dcc/dash_core_components.v2_7_1m1673529123.js HTTP/1.1\" 200 -\n",
      "127.0.0.1 - - [17/Jan/2023 14:21:56] \"GET /_dash-component-suites/dash/dcc/dash_core_components-shared.v2_7_1m1673529123.js HTTP/1.1\" 200 -\n",
      "127.0.0.1 - - [17/Jan/2023 14:21:56] \"GET /_dash-component-suites/dash/html/dash_html_components.v2_0_7m1673529123.min.js HTTP/1.1\" 200 -\n",
      "127.0.0.1 - - [17/Jan/2023 14:21:56] \"GET /_dash-component-suites/dash/dash_table/bundle.v5_2_1m1673529122.js HTTP/1.1\" 200 -\n",
      "127.0.0.1 - - [17/Jan/2023 14:21:56] \"GET /_dash-layout HTTP/1.1\" 200 -\n",
      "127.0.0.1 - - [17/Jan/2023 14:21:56] \"GET /_dash-dependencies HTTP/1.1\" 200 -\n",
      "127.0.0.1 - - [17/Jan/2023 14:21:56] \"GET /_favicon.ico?v=2.7.1 HTTP/1.1\" 200 -\n",
      "127.0.0.1 - - [17/Jan/2023 14:21:56] \"GET /_dash-component-suites/dash/dcc/async-markdown.js HTTP/1.1\" 200 -\n",
      "127.0.0.1 - - [17/Jan/2023 14:21:56] \"GET /_dash-component-suites/dash/dcc/async-highlight.js HTTP/1.1\" 200 -\n"
     ]
    }
   ],
   "source": [
    "# Build components\n",
    "app = Dash(__name__,external_stylesheets=[dbc.themes.BOOTSTRAP])\n",
    "mytext = dcc.Markdown(children=\"# Hello World - First Custom app\")\n",
    "\n",
    "# Customize Layout\n",
    "app.layout = dbc.Container([mytext])\n",
    "\n",
    "# run app\n",
    "if __name__ == '__main__':\n",
    "    app.run_server(port=8051)"
   ]
  },
  {
   "cell_type": "code",
   "execution_count": null,
   "id": "688f9c6b",
   "metadata": {},
   "outputs": [],
   "source": []
  }
 ],
 "metadata": {
  "kernelspec": {
   "display_name": "Python 3 (ipykernel)",
   "language": "python",
   "name": "python3"
  },
  "language_info": {
   "codemirror_mode": {
    "name": "ipython",
    "version": 3
   },
   "file_extension": ".py",
   "mimetype": "text/x-python",
   "name": "python",
   "nbconvert_exporter": "python",
   "pygments_lexer": "ipython3",
   "version": "3.9.12"
  }
 },
 "nbformat": 4,
 "nbformat_minor": 5
}
